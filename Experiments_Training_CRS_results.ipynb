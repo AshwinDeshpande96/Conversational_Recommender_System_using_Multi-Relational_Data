{
  "cells": [
    {
      "cell_type": "markdown",
      "metadata": {
        "id": "view-in-github",
        "colab_type": "text"
      },
      "source": [
        "<a href=\"https://colab.research.google.com/github/AshwinDeshpande96/Conversational_Recommender_System_using_Multi-Relational_Data/blob/master/Experiments_Training_CRS_results.ipynb\" target=\"_parent\"><img src=\"https://colab.research.google.com/assets/colab-badge.svg\" alt=\"Open In Colab\"/></a>"
      ]
    },
    {
      "cell_type": "code",
      "execution_count": null,
      "metadata": {
        "id": "xAPw8OuMNw--",
        "scrolled": true
      },
      "outputs": [],
      "source": [
        "import tensorflow as tf\n",
        "import pickle\n",
        "import pandas as pd\n",
        "import numpy as np\n",
        "import seaborn as sns\n",
        "import random"
      ]
    },
    {
      "cell_type": "markdown",
      "metadata": {
        "id": "0h6dVlcrb_Tv"
      },
      "source": [
        "* closest vector\n",
        "* closest vectors\n",
        "* closest cluster\n",
        "* multi-class classification\n",
        "* binary per entity"
      ]
    },
    {
      "cell_type": "code",
      "source": [
        "from google.colab import drive\n",
        "drive.mount('/content/drive', force_remount=True)\n",
        "%cd /content/drive/Shareddrives/Conversational_Recommender_Systems/"
      ],
      "metadata": {
        "id": "OgzWCpfwBj_O"
      },
      "execution_count": null,
      "outputs": []
    },
    {
      "cell_type": "code",
      "execution_count": null,
      "metadata": {
        "id": "4IrRB7w2HX3M",
        "scrolled": true
      },
      "outputs": [],
      "source": [
        "with open(\"movie_embeddings.pickle\", \"rb\") as fp:\n",
        "    movie_embeddings = pickle.load(fp)\n",
        "    fp.close()"
      ]
    },
    {
      "cell_type": "code",
      "source": [
        "len(movie_embeddings)"
      ],
      "metadata": {
        "colab": {
          "base_uri": "https://localhost:8080/"
        },
        "id": "z0HIOesWD4_C",
        "outputId": "9d6fa187-5f58-4b06-8b16-fa7317f08d82"
      },
      "execution_count": null,
      "outputs": [
        {
          "output_type": "execute_result",
          "data": {
            "text/plain": [
              "6428"
            ]
          },
          "metadata": {},
          "execution_count": 4
        }
      ]
    },
    {
      "cell_type": "code",
      "execution_count": null,
      "metadata": {
        "id": "v5Z93hurgl1C",
        "scrolled": true
      },
      "outputs": [],
      "source": [
        "with open(\"dgi_entity_to_embedding.pickle\", \"rb\") as fp:\n",
        "    entity_to_embeddings = pickle.load(fp)\n",
        "    fp.close()\n",
        "entity_to_embeddings = {key: value.tolist() for key, value in entity_to_embeddings.items()}"
      ]
    },
    {
      "cell_type": "code",
      "execution_count": null,
      "metadata": {
        "id": "hEe0-nDzBdwd"
      },
      "outputs": [],
      "source": [
        "with open(\"dgi_word_to_embedding.pickle\", \"rb\") as fp:\n",
        "    word_to_embeddings = pickle.load(fp)\n",
        "    fp.close()\n",
        "word_to_embeddings = {key: value.tolist() for key, value in word_to_embeddings.items()}"
      ]
    },
    {
      "cell_type": "code",
      "execution_count": null,
      "metadata": {
        "id": "OK61vKg8gwt_",
        "scrolled": true,
        "colab": {
          "base_uri": "https://localhost:8080/"
        },
        "outputId": "6cf2311c-7d98-4113-d724-e131cbdc5195"
      },
      "outputs": [
        {
          "output_type": "execute_result",
          "data": {
            "text/plain": [
              "48109"
            ]
          },
          "metadata": {},
          "execution_count": 7
        }
      ],
      "source": [
        "all_entities = list(entity_to_embeddings.keys())\n",
        "len(all_entities)"
      ]
    },
    {
      "cell_type": "code",
      "source": [
        "all_movies = list(set(movie_embeddings.keys()).intersection(set(all_entities)))"
      ],
      "metadata": {
        "id": "HI79mEvkoIbi"
      },
      "execution_count": null,
      "outputs": []
    },
    {
      "cell_type": "code",
      "execution_count": null,
      "metadata": {
        "colab": {
          "base_uri": "https://localhost:8080/",
          "height": 206
        },
        "id": "TKWu2LgVN7im",
        "outputId": "f10f4580-273e-4d31-91a0-6811a7867de9",
        "scrolled": true
      },
      "outputs": [
        {
          "output_type": "execute_result",
          "data": {
            "text/plain": [
              "                                        input_tokens  \\\n",
              "0  [like, watch, day, ., cool, fav, western, hila...   \n",
              "1  [nice, sounds, interesting, ., liked, really, ...   \n",
              "2  [seems, bit, early, year, ., also, great, watc...   \n",
              "3  [cold, ., yeah, know, freezing, ., wanted, sug...   \n",
              "4  [funny, title, though, shall, watch, one, ., f...   \n",
              "\n",
              "                                     output_entities  \\\n",
              "0       [http://dbpedia.org/resource/Wild_Wild_West]   \n",
              "1                 [http://dbpedia.org/resource/Adam]   \n",
              "2  [http://dbpedia.org/resource/Ferdinand_(film),...   \n",
              "3    [http://dbpedia.org/resource/Seabiscuit_(film)]   \n",
              "4  [http://dbpedia.org/resource/The_Big_Sick, htt...   \n",
              "\n",
              "                                       ranked_output  \n",
              "0  [http://dbpedia.org/resource/Wild_Wild_West, h...  \n",
              "1  [http://dbpedia.org/resource/The_Inbetweeners_...  \n",
              "2  [http://dbpedia.org/resource/Ferdinand_(film),...  \n",
              "3  [http://dbpedia.org/resource/Seabiscuit_(film)...  \n",
              "4  [http://dbpedia.org/resource/The_Big_Sick, htt...  "
            ],
            "text/html": [
              "\n",
              "  <div id=\"df-07bdc8c9-b333-4d6b-acee-5985190577ae\">\n",
              "    <div class=\"colab-df-container\">\n",
              "      <div>\n",
              "<style scoped>\n",
              "    .dataframe tbody tr th:only-of-type {\n",
              "        vertical-align: middle;\n",
              "    }\n",
              "\n",
              "    .dataframe tbody tr th {\n",
              "        vertical-align: top;\n",
              "    }\n",
              "\n",
              "    .dataframe thead th {\n",
              "        text-align: right;\n",
              "    }\n",
              "</style>\n",
              "<table border=\"1\" class=\"dataframe\">\n",
              "  <thead>\n",
              "    <tr style=\"text-align: right;\">\n",
              "      <th></th>\n",
              "      <th>input_tokens</th>\n",
              "      <th>output_entities</th>\n",
              "      <th>ranked_output</th>\n",
              "    </tr>\n",
              "  </thead>\n",
              "  <tbody>\n",
              "    <tr>\n",
              "      <th>0</th>\n",
              "      <td>[like, watch, day, ., cool, fav, western, hila...</td>\n",
              "      <td>[http://dbpedia.org/resource/Wild_Wild_West]</td>\n",
              "      <td>[http://dbpedia.org/resource/Wild_Wild_West, h...</td>\n",
              "    </tr>\n",
              "    <tr>\n",
              "      <th>1</th>\n",
              "      <td>[nice, sounds, interesting, ., liked, really, ...</td>\n",
              "      <td>[http://dbpedia.org/resource/Adam]</td>\n",
              "      <td>[http://dbpedia.org/resource/The_Inbetweeners_...</td>\n",
              "    </tr>\n",
              "    <tr>\n",
              "      <th>2</th>\n",
              "      <td>[seems, bit, early, year, ., also, great, watc...</td>\n",
              "      <td>[http://dbpedia.org/resource/Ferdinand_(film),...</td>\n",
              "      <td>[http://dbpedia.org/resource/Ferdinand_(film),...</td>\n",
              "    </tr>\n",
              "    <tr>\n",
              "      <th>3</th>\n",
              "      <td>[cold, ., yeah, know, freezing, ., wanted, sug...</td>\n",
              "      <td>[http://dbpedia.org/resource/Seabiscuit_(film)]</td>\n",
              "      <td>[http://dbpedia.org/resource/Seabiscuit_(film)...</td>\n",
              "    </tr>\n",
              "    <tr>\n",
              "      <th>4</th>\n",
              "      <td>[funny, title, though, shall, watch, one, ., f...</td>\n",
              "      <td>[http://dbpedia.org/resource/The_Big_Sick, htt...</td>\n",
              "      <td>[http://dbpedia.org/resource/The_Big_Sick, htt...</td>\n",
              "    </tr>\n",
              "  </tbody>\n",
              "</table>\n",
              "</div>\n",
              "      <button class=\"colab-df-convert\" onclick=\"convertToInteractive('df-07bdc8c9-b333-4d6b-acee-5985190577ae')\"\n",
              "              title=\"Convert this dataframe to an interactive table.\"\n",
              "              style=\"display:none;\">\n",
              "        \n",
              "  <svg xmlns=\"http://www.w3.org/2000/svg\" height=\"24px\"viewBox=\"0 0 24 24\"\n",
              "       width=\"24px\">\n",
              "    <path d=\"M0 0h24v24H0V0z\" fill=\"none\"/>\n",
              "    <path d=\"M18.56 5.44l.94 2.06.94-2.06 2.06-.94-2.06-.94-.94-2.06-.94 2.06-2.06.94zm-11 1L8.5 8.5l.94-2.06 2.06-.94-2.06-.94L8.5 2.5l-.94 2.06-2.06.94zm10 10l.94 2.06.94-2.06 2.06-.94-2.06-.94-.94-2.06-.94 2.06-2.06.94z\"/><path d=\"M17.41 7.96l-1.37-1.37c-.4-.4-.92-.59-1.43-.59-.52 0-1.04.2-1.43.59L10.3 9.45l-7.72 7.72c-.78.78-.78 2.05 0 2.83L4 21.41c.39.39.9.59 1.41.59.51 0 1.02-.2 1.41-.59l7.78-7.78 2.81-2.81c.8-.78.8-2.07 0-2.86zM5.41 20L4 18.59l7.72-7.72 1.47 1.35L5.41 20z\"/>\n",
              "  </svg>\n",
              "      </button>\n",
              "      \n",
              "  <style>\n",
              "    .colab-df-container {\n",
              "      display:flex;\n",
              "      flex-wrap:wrap;\n",
              "      gap: 12px;\n",
              "    }\n",
              "\n",
              "    .colab-df-convert {\n",
              "      background-color: #E8F0FE;\n",
              "      border: none;\n",
              "      border-radius: 50%;\n",
              "      cursor: pointer;\n",
              "      display: none;\n",
              "      fill: #1967D2;\n",
              "      height: 32px;\n",
              "      padding: 0 0 0 0;\n",
              "      width: 32px;\n",
              "    }\n",
              "\n",
              "    .colab-df-convert:hover {\n",
              "      background-color: #E2EBFA;\n",
              "      box-shadow: 0px 1px 2px rgba(60, 64, 67, 0.3), 0px 1px 3px 1px rgba(60, 64, 67, 0.15);\n",
              "      fill: #174EA6;\n",
              "    }\n",
              "\n",
              "    [theme=dark] .colab-df-convert {\n",
              "      background-color: #3B4455;\n",
              "      fill: #D2E3FC;\n",
              "    }\n",
              "\n",
              "    [theme=dark] .colab-df-convert:hover {\n",
              "      background-color: #434B5C;\n",
              "      box-shadow: 0px 1px 3px 1px rgba(0, 0, 0, 0.15);\n",
              "      filter: drop-shadow(0px 1px 2px rgba(0, 0, 0, 0.3));\n",
              "      fill: #FFFFFF;\n",
              "    }\n",
              "  </style>\n",
              "\n",
              "      <script>\n",
              "        const buttonEl =\n",
              "          document.querySelector('#df-07bdc8c9-b333-4d6b-acee-5985190577ae button.colab-df-convert');\n",
              "        buttonEl.style.display =\n",
              "          google.colab.kernel.accessAllowed ? 'block' : 'none';\n",
              "\n",
              "        async function convertToInteractive(key) {\n",
              "          const element = document.querySelector('#df-07bdc8c9-b333-4d6b-acee-5985190577ae');\n",
              "          const dataTable =\n",
              "            await google.colab.kernel.invokeFunction('convertToInteractive',\n",
              "                                                     [key], {});\n",
              "          if (!dataTable) return;\n",
              "\n",
              "          const docLinkHtml = 'Like what you see? Visit the ' +\n",
              "            '<a target=\"_blank\" href=https://colab.research.google.com/notebooks/data_table.ipynb>data table notebook</a>'\n",
              "            + ' to learn more about interactive tables.';\n",
              "          element.innerHTML = '';\n",
              "          dataTable['output_type'] = 'display_data';\n",
              "          await google.colab.output.renderOutput(dataTable, element);\n",
              "          const docLink = document.createElement('div');\n",
              "          docLink.innerHTML = docLinkHtml;\n",
              "          element.appendChild(docLink);\n",
              "        }\n",
              "      </script>\n",
              "    </div>\n",
              "  </div>\n",
              "  "
            ]
          },
          "metadata": {},
          "execution_count": 9
        }
      ],
      "source": [
        "train_df = pd.read_pickle(\"grouped_train_df.pickle\").dropna()\n",
        "# train_df[\"input_text\"] = [\" \".join(tokens) for tokens in train_df.input_tokens_pad.values]\n",
        "train_df.head()"
      ]
    },
    {
      "cell_type": "code",
      "execution_count": null,
      "metadata": {
        "id": "kcqzFIlNBdwf"
      },
      "outputs": [],
      "source": [
        "def merge_entities(output_entities, ranked_output, top=20):\n",
        "    entity_list = []\n",
        "    for entity in output_entities + ranked_output:\n",
        "        if len(entity_list) == top:\n",
        "            break\n",
        "        if entity not in entity_list and entity in entity_to_embeddings:\n",
        "            entity_list.append(entity)\n",
        "    return entity_list"
      ]
    },
    {
      "cell_type": "code",
      "execution_count": null,
      "metadata": {
        "id": "YgCz-IX8Bdwg"
      },
      "outputs": [],
      "source": [
        "def check_tokens(tokens):\n",
        "    checked_tokens = []\n",
        "    for token in tokens:\n",
        "        if token in word_to_embeddings:\n",
        "            checked_tokens.append(token)\n",
        "    return checked_tokens        "
      ]
    },
    {
      "cell_type": "code",
      "execution_count": null,
      "metadata": {
        "id": "A8hBnttPBdwg"
      },
      "outputs": [],
      "source": [
        "train_df[\"input_entities\"] = [merge_entities(output_entities, ranked_output)\n",
        "                              for output_entities, ranked_output in train_df[[\"output_entities\", \"ranked_output\"]].values]"
      ]
    },
    {
      "cell_type": "code",
      "execution_count": null,
      "metadata": {
        "id": "DOfw9mEHBdwh"
      },
      "outputs": [],
      "source": [
        "train_df[\"input_tokens\"] = [check_tokens(input_tokens)\n",
        "                              for input_tokens in train_df.input_tokens.values]"
      ]
    },
    {
      "cell_type": "code",
      "execution_count": null,
      "metadata": {
        "colab": {
          "base_uri": "https://localhost:8080/",
          "height": 206
        },
        "id": "GEnie7NpBdwh",
        "outputId": "94b63824-d17c-4be7-9644-45f856ac3410"
      },
      "outputs": [
        {
          "output_type": "execute_result",
          "data": {
            "text/plain": [
              "                                        input_tokens  \\\n",
              "0  [like, watch, day, cool, fav, western, hilarious]   \n",
              "1  [nice, sounds, interesting, liked, really, lau...   \n",
              "2  [seems, bit, early, year, also, great, watch, ...   \n",
              "3  [cold, yeah, know, freezing, wanted, suggestio...   \n",
              "4  [funny, title, though, shall, watch, one, firs...   \n",
              "\n",
              "                                     output_entities  \\\n",
              "0       [http://dbpedia.org/resource/Wild_Wild_West]   \n",
              "1                 [http://dbpedia.org/resource/Adam]   \n",
              "2  [http://dbpedia.org/resource/Ferdinand_(film),...   \n",
              "3    [http://dbpedia.org/resource/Seabiscuit_(film)]   \n",
              "4  [http://dbpedia.org/resource/The_Big_Sick, htt...   \n",
              "\n",
              "                                       ranked_output  \\\n",
              "0  [http://dbpedia.org/resource/Wild_Wild_West, h...   \n",
              "1  [http://dbpedia.org/resource/The_Inbetweeners_...   \n",
              "2  [http://dbpedia.org/resource/Ferdinand_(film),...   \n",
              "3  [http://dbpedia.org/resource/Seabiscuit_(film)...   \n",
              "4  [http://dbpedia.org/resource/The_Big_Sick, htt...   \n",
              "\n",
              "                                      input_entities  \n",
              "0  [http://dbpedia.org/resource/Wild_Wild_West, h...  \n",
              "1  [http://dbpedia.org/resource/The_Inbetweeners_...  \n",
              "2  [http://dbpedia.org/resource/Ferdinand_(film),...  \n",
              "3  [http://dbpedia.org/resource/Seabiscuit_(film)...  \n",
              "4  [http://dbpedia.org/resource/The_Big_Sick, htt...  "
            ],
            "text/html": [
              "\n",
              "  <div id=\"df-c67f715a-e503-4309-98f5-30a0b3f678b3\">\n",
              "    <div class=\"colab-df-container\">\n",
              "      <div>\n",
              "<style scoped>\n",
              "    .dataframe tbody tr th:only-of-type {\n",
              "        vertical-align: middle;\n",
              "    }\n",
              "\n",
              "    .dataframe tbody tr th {\n",
              "        vertical-align: top;\n",
              "    }\n",
              "\n",
              "    .dataframe thead th {\n",
              "        text-align: right;\n",
              "    }\n",
              "</style>\n",
              "<table border=\"1\" class=\"dataframe\">\n",
              "  <thead>\n",
              "    <tr style=\"text-align: right;\">\n",
              "      <th></th>\n",
              "      <th>input_tokens</th>\n",
              "      <th>output_entities</th>\n",
              "      <th>ranked_output</th>\n",
              "      <th>input_entities</th>\n",
              "    </tr>\n",
              "  </thead>\n",
              "  <tbody>\n",
              "    <tr>\n",
              "      <th>0</th>\n",
              "      <td>[like, watch, day, cool, fav, western, hilarious]</td>\n",
              "      <td>[http://dbpedia.org/resource/Wild_Wild_West]</td>\n",
              "      <td>[http://dbpedia.org/resource/Wild_Wild_West, h...</td>\n",
              "      <td>[http://dbpedia.org/resource/Wild_Wild_West, h...</td>\n",
              "    </tr>\n",
              "    <tr>\n",
              "      <th>1</th>\n",
              "      <td>[nice, sounds, interesting, liked, really, lau...</td>\n",
              "      <td>[http://dbpedia.org/resource/Adam]</td>\n",
              "      <td>[http://dbpedia.org/resource/The_Inbetweeners_...</td>\n",
              "      <td>[http://dbpedia.org/resource/The_Inbetweeners_...</td>\n",
              "    </tr>\n",
              "    <tr>\n",
              "      <th>2</th>\n",
              "      <td>[seems, bit, early, year, also, great, watch, ...</td>\n",
              "      <td>[http://dbpedia.org/resource/Ferdinand_(film),...</td>\n",
              "      <td>[http://dbpedia.org/resource/Ferdinand_(film),...</td>\n",
              "      <td>[http://dbpedia.org/resource/Ferdinand_(film),...</td>\n",
              "    </tr>\n",
              "    <tr>\n",
              "      <th>3</th>\n",
              "      <td>[cold, yeah, know, freezing, wanted, suggestio...</td>\n",
              "      <td>[http://dbpedia.org/resource/Seabiscuit_(film)]</td>\n",
              "      <td>[http://dbpedia.org/resource/Seabiscuit_(film)...</td>\n",
              "      <td>[http://dbpedia.org/resource/Seabiscuit_(film)...</td>\n",
              "    </tr>\n",
              "    <tr>\n",
              "      <th>4</th>\n",
              "      <td>[funny, title, though, shall, watch, one, firs...</td>\n",
              "      <td>[http://dbpedia.org/resource/The_Big_Sick, htt...</td>\n",
              "      <td>[http://dbpedia.org/resource/The_Big_Sick, htt...</td>\n",
              "      <td>[http://dbpedia.org/resource/The_Big_Sick, htt...</td>\n",
              "    </tr>\n",
              "  </tbody>\n",
              "</table>\n",
              "</div>\n",
              "      <button class=\"colab-df-convert\" onclick=\"convertToInteractive('df-c67f715a-e503-4309-98f5-30a0b3f678b3')\"\n",
              "              title=\"Convert this dataframe to an interactive table.\"\n",
              "              style=\"display:none;\">\n",
              "        \n",
              "  <svg xmlns=\"http://www.w3.org/2000/svg\" height=\"24px\"viewBox=\"0 0 24 24\"\n",
              "       width=\"24px\">\n",
              "    <path d=\"M0 0h24v24H0V0z\" fill=\"none\"/>\n",
              "    <path d=\"M18.56 5.44l.94 2.06.94-2.06 2.06-.94-2.06-.94-.94-2.06-.94 2.06-2.06.94zm-11 1L8.5 8.5l.94-2.06 2.06-.94-2.06-.94L8.5 2.5l-.94 2.06-2.06.94zm10 10l.94 2.06.94-2.06 2.06-.94-2.06-.94-.94-2.06-.94 2.06-2.06.94z\"/><path d=\"M17.41 7.96l-1.37-1.37c-.4-.4-.92-.59-1.43-.59-.52 0-1.04.2-1.43.59L10.3 9.45l-7.72 7.72c-.78.78-.78 2.05 0 2.83L4 21.41c.39.39.9.59 1.41.59.51 0 1.02-.2 1.41-.59l7.78-7.78 2.81-2.81c.8-.78.8-2.07 0-2.86zM5.41 20L4 18.59l7.72-7.72 1.47 1.35L5.41 20z\"/>\n",
              "  </svg>\n",
              "      </button>\n",
              "      \n",
              "  <style>\n",
              "    .colab-df-container {\n",
              "      display:flex;\n",
              "      flex-wrap:wrap;\n",
              "      gap: 12px;\n",
              "    }\n",
              "\n",
              "    .colab-df-convert {\n",
              "      background-color: #E8F0FE;\n",
              "      border: none;\n",
              "      border-radius: 50%;\n",
              "      cursor: pointer;\n",
              "      display: none;\n",
              "      fill: #1967D2;\n",
              "      height: 32px;\n",
              "      padding: 0 0 0 0;\n",
              "      width: 32px;\n",
              "    }\n",
              "\n",
              "    .colab-df-convert:hover {\n",
              "      background-color: #E2EBFA;\n",
              "      box-shadow: 0px 1px 2px rgba(60, 64, 67, 0.3), 0px 1px 3px 1px rgba(60, 64, 67, 0.15);\n",
              "      fill: #174EA6;\n",
              "    }\n",
              "\n",
              "    [theme=dark] .colab-df-convert {\n",
              "      background-color: #3B4455;\n",
              "      fill: #D2E3FC;\n",
              "    }\n",
              "\n",
              "    [theme=dark] .colab-df-convert:hover {\n",
              "      background-color: #434B5C;\n",
              "      box-shadow: 0px 1px 3px 1px rgba(0, 0, 0, 0.15);\n",
              "      filter: drop-shadow(0px 1px 2px rgba(0, 0, 0, 0.3));\n",
              "      fill: #FFFFFF;\n",
              "    }\n",
              "  </style>\n",
              "\n",
              "      <script>\n",
              "        const buttonEl =\n",
              "          document.querySelector('#df-c67f715a-e503-4309-98f5-30a0b3f678b3 button.colab-df-convert');\n",
              "        buttonEl.style.display =\n",
              "          google.colab.kernel.accessAllowed ? 'block' : 'none';\n",
              "\n",
              "        async function convertToInteractive(key) {\n",
              "          const element = document.querySelector('#df-c67f715a-e503-4309-98f5-30a0b3f678b3');\n",
              "          const dataTable =\n",
              "            await google.colab.kernel.invokeFunction('convertToInteractive',\n",
              "                                                     [key], {});\n",
              "          if (!dataTable) return;\n",
              "\n",
              "          const docLinkHtml = 'Like what you see? Visit the ' +\n",
              "            '<a target=\"_blank\" href=https://colab.research.google.com/notebooks/data_table.ipynb>data table notebook</a>'\n",
              "            + ' to learn more about interactive tables.';\n",
              "          element.innerHTML = '';\n",
              "          dataTable['output_type'] = 'display_data';\n",
              "          await google.colab.output.renderOutput(dataTable, element);\n",
              "          const docLink = document.createElement('div');\n",
              "          docLink.innerHTML = docLinkHtml;\n",
              "          element.appendChild(docLink);\n",
              "        }\n",
              "      </script>\n",
              "    </div>\n",
              "  </div>\n",
              "  "
            ]
          },
          "metadata": {},
          "execution_count": 14
        }
      ],
      "source": [
        "train_df.head()"
      ]
    },
    {
      "cell_type": "code",
      "execution_count": null,
      "metadata": {
        "id": "mFIxOb_RBdwh"
      },
      "outputs": [],
      "source": [
        "input_tokens = train_df.input_tokens.values\n",
        "input_entities = train_df.input_entities.values\n",
        "ranked_output = train_df.ranked_output.values"
      ]
    },
    {
      "cell_type": "code",
      "execution_count": null,
      "metadata": {
        "id": "4ZpzN4YxBdwi"
      },
      "outputs": [],
      "source": [
        "X = []"
      ]
    },
    {
      "cell_type": "code",
      "execution_count": null,
      "metadata": {
        "id": "Ban6tk9hf6H1",
        "scrolled": true,
        "colab": {
          "base_uri": "https://localhost:8080/"
        },
        "outputId": "b3df96ad-621f-4090-9295-3d84544baef9"
      },
      "outputs": [
        {
          "output_type": "stream",
          "name": "stdout",
          "text": [
            "25340\n"
          ]
        }
      ],
      "source": [
        "for i, x1, x2s in zip(range(len(input_tokens)), input_tokens, input_entities):\n",
        "    neg_entities = list(set(all_entities).difference(set(x2s)))\n",
        "    for x2 in x2s:\n",
        "        neg_x2 = random.choice(neg_entities)\n",
        "        X.append([i, x1, x2, neg_x2])\n",
        "print(len(X))"
      ]
    },
    {
      "cell_type": "code",
      "source": [
        "X = X[:10000]"
      ],
      "metadata": {
        "id": "WBRjs4VvdZM1"
      },
      "execution_count": null,
      "outputs": []
    },
    {
      "cell_type": "code",
      "execution_count": null,
      "metadata": {
        "id": "O_4TXN17bixo",
        "scrolled": true
      },
      "outputs": [],
      "source": [
        "from sklearn.model_selection import train_test_split\n",
        "\n",
        "X_train, X_test = train_test_split(X, test_size=0.25, random_state=42)\n",
        "X_train, X_val = train_test_split(X_train, test_size=0.25, random_state=42)"
      ]
    },
    {
      "cell_type": "code",
      "execution_count": null,
      "metadata": {
        "scrolled": true,
        "id": "66ib99PuBdwj"
      },
      "outputs": [],
      "source": [
        "# X_train = np.array(X_train)\n",
        "# X_test = np.array(X_test)\n",
        "# X_val = np.array(X_val)\n",
        "\n",
        "# y_train = np.array(y_train)\n",
        "# y_test = np.array(y_test)\n",
        "# y_val = np.array(y_val)\n",
        "\n",
        "# print(X_train.shape, y_train.shape)\n",
        "# print(X_test.shape, y_test.shape)\n",
        "# print(X_val.shape, y_val.shape)"
      ]
    },
    {
      "cell_type": "code",
      "execution_count": null,
      "metadata": {
        "id": "Z11OmH2bBdwj"
      },
      "outputs": [],
      "source": [
        "def get_word_embeddings(sentences, emb_length=70, emb_size=128):\n",
        "    embeddings = []\n",
        "    for si, sentence in enumerate(sentences):\n",
        "        embeddings.append([])\n",
        "        for token in sentence[:emb_length]:\n",
        "            embeddings[si].append(word_to_embeddings[token])\n",
        "        while len(embeddings[si]) < emb_length:\n",
        "            embeddings[si].append([0]*emb_size)\n",
        "    # print(embeddings)\n",
        "    return np.array(embeddings)\n",
        "            "
      ]
    },
    {
      "cell_type": "code",
      "execution_count": null,
      "metadata": {
        "colab": {
          "base_uri": "https://localhost:8080/"
        },
        "id": "AaefEEdNBdwj",
        "outputId": "f837f901-01b0-4a97-9778-a09843599827"
      },
      "outputs": [
        {
          "output_type": "execute_result",
          "data": {
            "text/plain": [
              "(3, 70, 128)"
            ]
          },
          "metadata": {},
          "execution_count": 22
        }
      ],
      "source": [
        "get_word_embeddings([x[1] for x in X_train[0:3]]).shape"
      ]
    },
    {
      "cell_type": "code",
      "execution_count": null,
      "metadata": {
        "id": "3B9CiOCtBdwj"
      },
      "outputs": [],
      "source": [
        "def get_entity_embeddings(entities, emb_length=60):\n",
        "    embeddings = []\n",
        "    for entity in entities:\n",
        "        if entity in entity_to_embeddings:\n",
        "            embeddings.append(entity_to_embeddings[entity])\n",
        "    return np.array(embeddings)"
      ]
    },
    {
      "cell_type": "code",
      "execution_count": null,
      "metadata": {
        "colab": {
          "base_uri": "https://localhost:8080/"
        },
        "id": "po_6xPcpBdwk",
        "outputId": "226359fd-1848-4d65-8db7-87dc4c247fc9"
      },
      "outputs": [
        {
          "output_type": "execute_result",
          "data": {
            "text/plain": [
              "(3, 128)"
            ]
          },
          "metadata": {},
          "execution_count": 24
        }
      ],
      "source": [
        "get_entity_embeddings([x[2] for x in X_train[0:3]]).shape"
      ]
    },
    {
      "cell_type": "code",
      "execution_count": null,
      "metadata": {
        "scrolled": true,
        "id": "MCimbWr5Bdwk"
      },
      "outputs": [],
      "source": [
        "batch_size = 64\n",
        "def batch(_X, batch_size=32):\n",
        "    n = len(_X)\n",
        "    step = 0\n",
        "    for start in range(0, n, batch_size):\n",
        "        end = start+batch_size if start+batch_size < n else n\n",
        "        step += 1\n",
        "        idxs = [x[0] for x in _X[start:end]]\n",
        "        word_embeddings = get_word_embeddings([x[1] for x in _X[start:end]])\n",
        "        pos_entity_embedding = get_entity_embeddings([x[2] for x in _X[start:end]])\n",
        "        neg_entity_embedding = get_entity_embeddings([x[3] for x in _X[start:end]])\n",
        "\n",
        "        yield step, idxs, word_embeddings, pos_entity_embedding, neg_entity_embedding"
      ]
    },
    {
      "cell_type": "code",
      "execution_count": null,
      "metadata": {
        "scrolled": true,
        "id": "2kC18PUdBdwk"
      },
      "outputs": [],
      "source": [
        "class MyLayer(tf.keras.layers.Layer):\n",
        "    def __init__(self, input_shape):\n",
        "        super(MyLayer, self).__init__()\n",
        "        self.kernel = self.add_weight(\"kernel\", shape=input_shape, initializer='he_normal', trainable=True)\n",
        "        self.kernel2 = self.add_weight(\"kernel\", shape=(batch_size, input_shape[0]), initializer='he_normal', trainable=True)\n",
        "        self.bias = self.add_weight(name='bias', shape=(1, input_shape[0]), initializer='zeros', trainable=True)\n",
        "        \n",
        "    def call(self, word_embedding, entity_embedding):\n",
        "        # print(\"word_embedding: \", word_embedding.shape)\n",
        "        # print(\"entity_embedding: \", entity_embedding.shape)\n",
        "        x = tf.matmul(word_embedding, self.kernel)\n",
        "        # print(\"x: \", x.shape)\n",
        "        entity_embedding = tf.transpose(entity_embedding)\n",
        "        # print(\"entity_embedding: \", entity_embedding.shape)\n",
        "        x = tf.matmul(x, entity_embedding)\n",
        "\n",
        "        x = tf.matmul(x, self.kernel2)\n",
        "        # print(\"x: \", x.shape)\n",
        "        x = x + self.bias\n",
        "        # print(\"x: \", x.shape)\n",
        "        return x"
      ]
    },
    {
      "cell_type": "code",
      "execution_count": null,
      "metadata": {
        "id": "RxJWrK1ThSZZ",
        "scrolled": true
      },
      "outputs": [],
      "source": [
        "class MyModel(tf.keras.Model):\n",
        "    def __init__(self, embedding_size):\n",
        "        super().__init__()\n",
        "        # self.encoder = encoder\n",
        "        # self.num_outputs = num_outputs\n",
        "        # self.embedding_layer = tf.keras.layers.Embedding(input_dim=len(encoder.get_vocabulary()), output_dim=embedding_size)\n",
        "        self.lstm1 = tf.keras.layers.LSTM(embedding_size, activation='relu', dropout=0.25, return_sequences=True, return_state=True)\n",
        "\n",
        "        self.lstm2 = tf.keras.layers.Bidirectional(tf.keras.layers.LSTM(embedding_size, activation='relu', dropout=0.25))\n",
        "\n",
        "\n",
        "        self.fc1 = tf.keras.layers.Dense(embedding_size, activation='relu')\n",
        "        self.fc2 = tf.keras.layers.Dense(embedding_size, activation='relu')\n",
        "        self.fc3 = tf.keras.layers.Dense(embedding_size, activation='relu')\n",
        "\n",
        "        self.my_layer = MyLayer([embedding_size, embedding_size])\n",
        "\n",
        "    def call(self, x1x2):\n",
        "        # x = self.encoder(input)\n",
        "        # x = self.embedding_layer(x)\n",
        "        # print(input.shape)\n",
        "        # print(x1x2[0].shape, x1x2[1].shape)\n",
        "        whole_seq_output, final_memory_state, final_carry_state = self.lstm1(x1x2[0])\n",
        "\n",
        "        x1 = self.lstm2(whole_seq_output)\n",
        "\n",
        "        # print(x1.shape)\n",
        "\n",
        "        x1 = self.fc1(x1)\n",
        "\n",
        "        # print(x1.shape)\n",
        "        \n",
        "        x2 = self.fc2(x1x2[1])\n",
        "\n",
        "        # print(x1.shape, x2.shape)\n",
        "        \n",
        "        x = self.my_layer(x1, x2)\n",
        "        \n",
        "        output = tf.keras.activations.sigmoid(x)\n",
        "\n",
        "        return output"
      ]
    },
    {
      "cell_type": "code",
      "source": [
        "class MyModel2(tf.keras.Model):\n",
        "    def __init__(self, embedding_size):\n",
        "        super().__init__()\n",
        "        # self.encoder = encoder\n",
        "        # self.num_outputs = num_outputs\n",
        "        # self.embedding_layer = tf.keras.layers.Embedding(input_dim=len(encoder.get_vocabulary()), output_dim=embedding_size)\n",
        "        self.lstm1 = tf.keras.layers.LSTM(embedding_size, activation='relu', dropout=0.25, return_sequences=True, return_state=True)\n",
        "\n",
        "        self.lstm2 = tf.keras.layers.Bidirectional(tf.keras.layers.LSTM(embedding_size, activation='relu', dropout=0.25))\n",
        "\n",
        "\n",
        "        self.fc_word_1 = tf.keras.layers.Dense(embedding_size, activation='relu')\n",
        "        self.fc_word_2 = tf.keras.layers.Dense(embedding_size, activation='tanh')\n",
        "\n",
        "        self.fc_1 = tf.keras.layers.Dense(embedding_size, activation='relu')\n",
        "        self.fc_2 = tf.keras.layers.Dense(embedding_size, activation='relu')\n",
        "        self.fc_3 = tf.keras.layers.Dense(embedding_size, activation='tanh')\n",
        "\n",
        "        # self.myLayer = MyLayer([embedding_size, embedding_size])\n",
        "\n",
        "\n",
        "        \n",
        "\n",
        "    def call(self, xs):\n",
        "        # x = self.encoder(input)\n",
        "        # x = self.embedding_layer(x)\n",
        "        # print(input.shape)\n",
        "        # print(x1x2[0].shape, x1x2[1].shape)\n",
        "        word_input = xs[0]\n",
        "        pos_ent = xs[1]\n",
        "        neg_ent = xs[2]\n",
        "\n",
        "        whole_seq_output, final_memory_state, final_carry_state = self.lstm1(word_input)\n",
        "\n",
        "        word_x = self.lstm2(whole_seq_output)\n",
        "\n",
        "        # print(x1.shape)\n",
        "\n",
        "        word_x = self.fc_word_1(word_x)\n",
        "        word_x = self.fc_word_2(word_x)\n",
        "\n",
        "        # print(x1.shape)\n",
        "        \n",
        "        pos_x = self.fc_1(pos_ent)\n",
        "        pos_x = self.fc_2(pos_x)\n",
        "\n",
        "        pos_x = self.fc_3(pos_x)\n",
        "\n",
        "        neg_x = self.fc_1(neg_ent)\n",
        "        neg_x = self.fc_2(neg_x)\n",
        "        neg_x = self.fc_3(neg_x)\n",
        "\n",
        "        # print(x1.shape, x2.shape)\n",
        "        # print(x.shape)\n",
        "\n",
        "        return word_x, pos_x, neg_x"
      ],
      "metadata": {
        "id": "mBHY6bpC4riO"
      },
      "execution_count": null,
      "outputs": []
    },
    {
      "cell_type": "code",
      "source": [
        "class MIM(tf.keras.metrics.Metric):\n",
        "    def __init__(self, name='binary_true_positives', **kwargs):\n",
        "        super(MIM, self).__init__(name=name, **kwargs)\n",
        "        self.loss = self.add_weight(name='mim', initializer='zeros')\n",
        "\n",
        "    def update_state(self, y_pred, sample_weight=None):\n",
        "        word_x, pos_x, neg_x = y_pred\n",
        "        # print(word_x[0], pos_x[0], neg_x[0])\n",
        "        pos_dist = word_x - pos_x\n",
        "        neg_dist = word_x - neg_x\n",
        "\n",
        "        pos_dist = tf.math.abs(pos_dist)\n",
        "        neg_dist = tf.math.abs(neg_dist)\n",
        "\n",
        "        pos_dist = tf.reduce_mean(pos_dist, 1)\n",
        "        neg_dist = tf.reduce_mean(neg_dist, 1)\n",
        "\n",
        "        total_dist = pos_dist - neg_dist\n",
        "\n",
        "        total_dist = tf.reduce_sum(total_dist)\n",
        "        \n",
        "\n",
        "        self.loss.assign_add(total_dist)\n",
        "        \n",
        "\n",
        "    def reset_states(self):\n",
        "        self.loss.assign(0)\n",
        "\n",
        "    def result(self):\n",
        "        return self.loss.numpy()\n",
        "        "
      ],
      "metadata": {
        "id": "ZMujKSRNKAAP"
      },
      "execution_count": null,
      "outputs": []
    },
    {
      "cell_type": "code",
      "source": [
        "def mim_loss(y_pred):\n",
        "    word_x, pos_x, neg_x = y_pred\n",
        "    pos_dist = word_x - pos_x\n",
        "    neg_dist = word_x - neg_x\n",
        "\n",
        "    pos_dist = tf.math.abs(pos_dist)\n",
        "    neg_dist = tf.math.abs(neg_dist)\n",
        "\n",
        "    pos_dist = tf.reduce_mean(pos_dist, 1)\n",
        "    neg_dist = tf.reduce_mean(neg_dist, 1)\n",
        "\n",
        "    total_dist = pos_dist - neg_dist\n",
        "\n",
        "    total_dist = tf.reduce_sum(total_dist)\n",
        "\n",
        "    return total_dist\n"
      ],
      "metadata": {
        "id": "y4uExGEoiAyi"
      },
      "execution_count": null,
      "outputs": []
    },
    {
      "cell_type": "code",
      "execution_count": null,
      "metadata": {
        "id": "UiRpVtst0cBI",
        "scrolled": true,
        "colab": {
          "base_uri": "https://localhost:8080/"
        },
        "outputId": "5c548d46-1020-4748-bb1b-ea0ba800f0c1"
      },
      "outputs": [
        {
          "output_type": "stream",
          "name": "stdout",
          "text": [
            "WARNING:tensorflow:Layer lstm will not use cuDNN kernels since it doesn't meet the criteria. It will use a generic GPU kernel as fallback when running on GPU.\n",
            "WARNING:tensorflow:Layer lstm_1 will not use cuDNN kernels since it doesn't meet the criteria. It will use a generic GPU kernel as fallback when running on GPU.\n",
            "WARNING:tensorflow:Layer lstm_1 will not use cuDNN kernels since it doesn't meet the criteria. It will use a generic GPU kernel as fallback when running on GPU.\n",
            "WARNING:tensorflow:Layer lstm_1 will not use cuDNN kernels since it doesn't meet the criteria. It will use a generic GPU kernel as fallback when running on GPU.\n"
          ]
        }
      ],
      "source": [
        "lr = 1e-3\n",
        "optimizer=tf.keras.optimizers.Adam(lr)\n",
        "loss = mim_loss\n",
        "train_mim = MIM()\n",
        "val_mim = MIM()\n",
        "model = MyModel2(128)"
      ]
    },
    {
      "cell_type": "code",
      "execution_count": null,
      "metadata": {
        "id": "9jhpXGH10y70",
        "scrolled": true
      },
      "outputs": [],
      "source": [
        "def create_train_step(model, lr=1e-3):\n",
        "    optimizer=tf.keras.optimizers.Adam(lr)\n",
        "    @tf.function\n",
        "    def train_step(x):\n",
        "        with tf.GradientTape() as tape:\n",
        "            logits = model(x, training=True)\n",
        "            loss_value = loss(logits)\n",
        "                    \n",
        "        grads = tape.gradient(loss_value, model.trainable_weights)\n",
        "        optimizer.apply_gradients(zip(grads, model.trainable_weights))\n",
        "        train_mim.update_state(logits)\n",
        "\n",
        "        return loss_value\n",
        "\n",
        "    @tf.function\n",
        "    def test_step(x):\n",
        "        val_logits = model(x, training=False)\n",
        "        val_mim.update_state(val_logits)\n",
        "    return train_step, test_step"
      ]
    },
    {
      "cell_type": "code",
      "source": [
        "def hit_at_n(y_pred, y_true, n=10):\n",
        "    y_pred = set(y_pred[:n])\n",
        "    y_true = set(y_true[:n])\n",
        "    score = len(y_pred.intersection(y_true))/n\n",
        "    return score\n",
        "def get_mrr(y_pred, y_true):\n",
        "    first = y_true[0]\n",
        "    y_pred = y_pred.tolist()\n",
        "    rank = y_pred.index(first) + 1\n",
        "    return 1/rank\n"
      ],
      "metadata": {
        "id": "eYLgchzKYRac"
      },
      "execution_count": null,
      "outputs": []
    },
    {
      "cell_type": "code",
      "source": [
        "from pprint import pprint\n",
        "from matplotlib import pyplot as plt\n",
        "from sklearn.metrics import roc_auc_score, roc_curve\n",
        "hits = [10, 15, 20, 50, 100]\n",
        "parsed_idxs = set()\n",
        "def get_auc_score(idxs, top=50, total_movies=200):\n",
        "    input_values = input_tokens[idxs]\n",
        "    hitscores = {h:0 for h in hits}\n",
        "    mrr = 0\n",
        "    output_lists = []\n",
        "    for movies in ranked_output[idxs]:\n",
        "        output_list = movies[:top]\n",
        "        output_list_neg = set(all_movies).difference(set(output_list))\n",
        "        output_list_neg = random.sample(output_list_neg, total_movies-top)\n",
        "        output_list += output_list_neg\n",
        "        output_lists.append(output_list)\n",
        "    batch_auc_score = 0\n",
        "    # print(input_values.shape)\n",
        "    # print(output_lists.shape)\n",
        "    ranges = [[0]]\n",
        "    all_predictions = []\n",
        "    for x1, x2 in zip(input_values, output_lists):\n",
        "        print(\"#\"*200)\n",
        "        print(x1)\n",
        "        print(\"#\"*200)\n",
        "        text_input = get_word_embeddings([x1])\n",
        "        movie_embeddings = get_entity_embeddings(x2)\n",
        "        # print(text_input.shape, movie_embeddings.shape)\n",
        "        text_input = np.vstack([text_input]*len(movie_embeddings))\n",
        "\n",
        "        start = ranges[-1][-1]\n",
        "        end = start + len(movie_embeddings)\n",
        "        ranges.append([start, end])\n",
        "\n",
        "        movie_input = [text_input, movie_embeddings, movie_embeddings]\n",
        "        word_x, pos_x, neg_x = model(movie_input, training=False)\n",
        "        pos_d = tf.math.squared_difference(word_x, pos_x)\n",
        "        pos_d = tf.reduce_mean(pos_d, 1).numpy()\n",
        "\n",
        "        ranked_i = np.argsort(pos_d)\n",
        "        x2 = np.array(x2)\n",
        "        x2pred = x2[ranked_i]\n",
        "        mrr += get_mrr(x2pred, x2)\n",
        "        idx = 0\n",
        "        hitat100 = hit_at_n(x2pred, x2, 100)\n",
        "        print(hitat100)\n",
        "        if  hitat100 >= 0.15:\n",
        "            for a, b in zip(x2[:50], x2pred[:50]):\n",
        "                idx += 1\n",
        "                print(idx, a, b, sep=\"\\t\")\n",
        "\n",
        "        for hit in hitscores:\n",
        "            hit_score = hit_at_n(x2pred, x2, hit)\n",
        "            hitscores[hit] += hit_score\n",
        "\n",
        "\n",
        "        all_predictions += (-1*pos_d).flatten().tolist()\n",
        "        \n",
        "        \n",
        "    for start_i, end_i in ranges[1:]:\n",
        "        predictions = all_predictions[start_i:end_i]\n",
        "        gold_ranking = [1]*top + [0]*(len(predictions)-top)\n",
        "\n",
        "        try:\n",
        "            auc_score = roc_auc_score(gold_ranking, predictions)\n",
        "            fpr, tpr, thresholds = roc_curve(x=gold_ranking, y=predictions, pos_label=1)\n",
        "            p = sns.lineplot(fpr, tpr)\n",
        "            p.set_xlabel(\"FPR\", fontsize = 10)\n",
        "            p.set_ylabel(\"TPR\", fontsize = 10)\n",
        "            # print(predictions)\n",
        "            # print(gold_ranking)\n",
        "        except Exception as e:\n",
        "            continue\n",
        "        # print(\"Gold:\", gold_ranking)\n",
        "        # print(\"Pred: \", predictions)\n",
        "        # print(\"AUC:\", auc_score)\n",
        "        batch_auc_score += auc_score\n",
        "        # pprint(dict(zip(y, predictions)))\n",
        "    batch_auc_score /=len(input_values)\n",
        "    hitscores = [score/len(input_values) for score in hitscores.values()]\n",
        "    mrr /= len(input_values)\n",
        "    scores = []\n",
        "    return batch_auc_score, hitscores, mrr\n",
        "        "
      ],
      "metadata": {
        "id": "W-kX1UQdDkd2"
      },
      "execution_count": null,
      "outputs": []
    },
    {
      "cell_type": "code",
      "source": [
        "epochs = 15\n",
        "best_auc = 0\n",
        "patience = 0\n",
        "max_patience = 10\n",
        "num_decay = 5\n",
        "decay_ratio = 8\n",
        "history = []\n",
        "train_step, test_step = create_train_step(model, lr=lr)"
      ],
      "metadata": {
        "id": "iF7wekVSkgec"
      },
      "execution_count": null,
      "outputs": []
    },
    {
      "cell_type": "code",
      "execution_count": null,
      "metadata": {
        "id": "lsuzqVY52_7V",
        "scrolled": true
      },
      "outputs": [],
      "source": [
        "\n",
        "for epoch in range(epochs):\n",
        "    parsed_idxs = set()\n",
        "    print(f\"{'#'*60}\\nEPOCH: {epoch}\\n{'#'*60}\")\n",
        "    for step, idxs_train, x1_batch_train, pos_x2_batch_train, neg_x2_batch_train in batch(X_train):\n",
        "        # print(x1_batch_train.shape, x2_batch_train.shape, y_batch_train.shape)\n",
        "        x_batch_train = [x1_batch_train, pos_x2_batch_train, neg_x2_batch_train]\n",
        "        train_step(x_batch_train)\n",
        "    train_result = train_mim.result()\n",
        "    if not isinstance(train_result, np.float32):\n",
        "        train_result = train_result.numpy()\n",
        "    \n",
        "    print(f\"Training Loss: {round(train_result, 5)}\", end=\"\\t\")\n",
        "    train_mim.reset_states()\n",
        "\n",
        "    parsed_idxs = set()\n",
        "    for step, idxs_val, x1_batch_val, pos_x2_batch_val, neg_x2_batch_val in batch(X_val):\n",
        "        parsed_idxs.update(idxs_val)\n",
        "        x_batch_val = [x1_batch_val, pos_x2_batch_val, neg_x2_batch_val]\n",
        "        test_step(x_batch_val)\n",
        "    epoch_auc, recalls, mrr = get_auc_score(random.sample(parsed_idxs, 5))\n",
        "    history.append([epoch_auc, mrr]+recalls)\n",
        "    val_result = val_mim.result()\n",
        "    #   print(\"-\"*60)\n",
        "    if not isinstance(val_result, np.float32):\n",
        "        val_result = val_result.numpy()\n",
        "    # print(\"Validation Loss: %.4f \\tAUC: %.4f\" % (float(val_result), float(epoch_auc)))\n",
        "    print(f\"Validation Loss: {round(val_result, 5)}, Batch AUC: {round(epoch_auc, 5)}\")\n",
        "    val_mim.reset_states()\n",
        "    \n",
        "    if epoch_auc > best_auc:\n",
        "        model.save_weights(\"./model_weights_distance\", save_format='tf', overwrite=True)\n",
        "        best_auc = epoch_auc\n",
        "        patience = 0    \n",
        "        print(\"Loss Improved!\")\n",
        "    else:\n",
        "        patience += 1\n",
        "    if patience > max_patience:\n",
        "        num_decay -= 1\n",
        "        if num_decay <= 0:\n",
        "            break\n",
        "        else:\n",
        "            model.load_weights('./model_weights_distance')\n",
        "            lr = lr/decay_ratio\n",
        "            print(\"Loss not improved\")\n",
        "            print(f\"New lr: {lr}\")\n",
        "            del train_step\n",
        "            del test_step\n",
        "            train_step, test_step = create_train_step(model, lr)\n",
        "            patience = 0"
      ]
    },
    {
      "cell_type": "code",
      "source": [
        "from matplotlib import pyplot as plt\n",
        "auc_scores = [h[0] for h in history]\n",
        "mrr_scores = [h[1] for h in history]\n",
        "r_at10 = [h[2] for h in history]\n",
        "r_at15 = [h[3] for h in history]\n",
        "r_at20 = [h[4] for h in history]\n",
        "r_at50 = [h[5] for h in history]\n",
        "r_at100 = [h[6] for h in history]"
      ],
      "metadata": {
        "id": "cx19Utxkfh1A"
      },
      "execution_count": null,
      "outputs": []
    },
    {
      "cell_type": "code",
      "source": [
        "print(\"\\t\".join([str(round(sc, 3)) for sc in [np.max(auc_scores), np.mean(auc_scores), np.std(auc_scores), np.min(auc_scores), np.median(auc_scores)]]))"
      ],
      "metadata": {
        "colab": {
          "base_uri": "https://localhost:8080/"
        },
        "id": "xG1fhX5knQ2K",
        "outputId": "5a64f416-d01e-45a3-b02a-518247ba3c01"
      },
      "execution_count": null,
      "outputs": [
        {
          "output_type": "stream",
          "name": "stdout",
          "text": [
            "0.697\t0.606\t0.046\t0.491\t0.609\n"
          ]
        }
      ]
    },
    {
      "cell_type": "code",
      "source": [
        "print(\"\\t\".join([str(round(sc, 3)) for sc in [np.max(mrr_scores), np.mean(mrr_scores), np.std(mrr_scores), np.min(mrr_scores), np.median(mrr_scores)]]))"
      ],
      "metadata": {
        "colab": {
          "base_uri": "https://localhost:8080/"
        },
        "id": "HE_wHkRtnbz0",
        "outputId": "76857a40-34fb-4b02-9436-28516442e203"
      },
      "execution_count": null,
      "outputs": [
        {
          "output_type": "stream",
          "name": "stdout",
          "text": [
            "0.118\t0.027\t0.024\t0.007\t0.019\n"
          ]
        }
      ]
    },
    {
      "cell_type": "code",
      "source": [
        "print(\"\\t\".join([str(round(sc, 3)) for sc in [np.max(r_at10), np.mean(r_at10), np.std(r_at10), np.min(r_at10), np.median(r_at10)]]))"
      ],
      "metadata": {
        "colab": {
          "base_uri": "https://localhost:8080/"
        },
        "id": "8imMSq3Nnedi",
        "outputId": "374aa252-9750-441c-edfe-7aff5af256b3"
      },
      "execution_count": null,
      "outputs": [
        {
          "output_type": "stream",
          "name": "stdout",
          "text": [
            "0.14\t0.048\t0.035\t0.0\t0.04\n"
          ]
        }
      ]
    },
    {
      "cell_type": "code",
      "source": [
        "print(\"\\t\".join([str(round(sc, 3)) for sc in [np.max(r_at15), np.mean(r_at15), np.std(r_at15), np.min(r_at15), np.median(r_at15)]]))"
      ],
      "metadata": {
        "colab": {
          "base_uri": "https://localhost:8080/"
        },
        "id": "TrawHLiznegL",
        "outputId": "bb6b1385-8467-4e9a-98ab-5c9a80e9ecf6"
      },
      "execution_count": null,
      "outputs": [
        {
          "output_type": "stream",
          "name": "stdout",
          "text": [
            "0.213\t0.085\t0.046\t0.013\t0.087\n"
          ]
        }
      ]
    },
    {
      "cell_type": "code",
      "source": [
        "print(\"\\t\".join([str(round(sc, 3)) for sc in [np.max(r_at20), np.mean(r_at20), np.std(r_at20), np.min(r_at20), np.median(r_at20)]]))"
      ],
      "metadata": {
        "colab": {
          "base_uri": "https://localhost:8080/"
        },
        "id": "t49j2DWHnei7",
        "outputId": "da066bb0-cbac-4285-852f-ac4a47f9eef2"
      },
      "execution_count": null,
      "outputs": [
        {
          "output_type": "stream",
          "name": "stdout",
          "text": [
            "0.25\t0.122\t0.053\t0.03\t0.11\n"
          ]
        }
      ]
    },
    {
      "cell_type": "code",
      "source": [
        "print(\"\\t\".join([str(round(sc, 3)) for sc in [np.max(r_at50), np.mean(r_at50), np.std(r_at50), np.min(r_at50), np.median(r_at50)]]))"
      ],
      "metadata": {
        "colab": {
          "base_uri": "https://localhost:8080/"
        },
        "id": "yoDldITYnekg",
        "outputId": "de36a56d-3aa6-4a63-c16f-7d98fdf98f4c"
      },
      "execution_count": null,
      "outputs": [
        {
          "output_type": "stream",
          "name": "stdout",
          "text": [
            "0.424\t0.326\t0.043\t0.24\t0.326\n"
          ]
        }
      ]
    },
    {
      "cell_type": "code",
      "source": [
        "print(\"\\t\".join([str(round(sc, 3)) for sc in [np.max(r_at100), np.mean(r_at100), np.std(r_at100), np.min(r_at100), np.median(r_at100)]]))"
      ],
      "metadata": {
        "colab": {
          "base_uri": "https://localhost:8080/"
        },
        "id": "IyJUTJD-n7IW",
        "outputId": "127fe8b4-58eb-41e4-d10a-812836a36bc7"
      },
      "execution_count": null,
      "outputs": [
        {
          "output_type": "stream",
          "name": "stdout",
          "text": [
            "0.584\t0.536\t0.025\t0.486\t0.533\n"
          ]
        }
      ]
    },
    {
      "cell_type": "code",
      "source": [
        "import seaborn as sns\n",
        "p = sns.lineplot(range(len(auc_scores)), auc_scores)\n",
        "p.set_xlabel(\"EPOCH\", fontsize = 20)\n",
        "p.set_ylabel(\"AUC\", fontsize = 20)"
      ],
      "metadata": {
        "colab": {
          "base_uri": "https://localhost:8080/",
          "height": 360
        },
        "id": "Twn7JbHIgV_U",
        "outputId": "8af216e3-4e7f-42fa-d6b6-d7ee26db2b0d"
      },
      "execution_count": null,
      "outputs": [
        {
          "output_type": "stream",
          "name": "stderr",
          "text": [
            "/usr/local/lib/python3.7/dist-packages/seaborn/_decorators.py:43: FutureWarning: Pass the following variables as keyword args: x, y. From version 0.12, the only valid positional argument will be `data`, and passing other arguments without an explicit keyword will result in an error or misinterpretation.\n",
            "  FutureWarning\n"
          ]
        },
        {
          "output_type": "execute_result",
          "data": {
            "text/plain": [
              "Text(0, 0.5, 'AUC')"
            ]
          },
          "metadata": {},
          "execution_count": 80
        },
        {
          "output_type": "display_data",
          "data": {
            "text/plain": [
              "<Figure size 432x288 with 1 Axes>"
            ],
            "image/png": "[encoded data removed]"
          },
          "metadata": {
            "needs_background": "light"
          }
        }
      ]
    },
    {
      "cell_type": "code",
      "source": [
        "import seaborn as sns\n",
        "p = sns.lineplot(range(len(history)), mrr_scores)\n",
        "p.set_xlabel(\"EPOCH\", fontsize = 20)\n",
        "p.set_ylabel(\"MRR\", fontsize = 20)"
      ],
      "metadata": {
        "colab": {
          "base_uri": "https://localhost:8080/",
          "height": 360
        },
        "id": "hwyqJKX_g6ex",
        "outputId": "27f26334-a22e-4e75-d2fd-24da4b58c880"
      },
      "execution_count": null,
      "outputs": [
        {
          "output_type": "stream",
          "name": "stderr",
          "text": [
            "/usr/local/lib/python3.7/dist-packages/seaborn/_decorators.py:43: FutureWarning: Pass the following variables as keyword args: x, y. From version 0.12, the only valid positional argument will be `data`, and passing other arguments without an explicit keyword will result in an error or misinterpretation.\n",
            "  FutureWarning\n"
          ]
        },
        {
          "output_type": "execute_result",
          "data": {
            "text/plain": [
              "Text(0, 0.5, 'MRR')"
            ]
          },
          "metadata": {},
          "execution_count": 81
        },
        {
          "output_type": "display_data",
          "data": {
            "text/plain": [
              "<Figure size 432x288 with 1 Axes>"
            ],
            "image/png": "[encoded data removed]"
          },
          "metadata": {
            "needs_background": "light"
          }
        }
      ]
    },
    {
      "cell_type": "code",
      "source": [
        "import seaborn as sns\n",
        "p = sns.lineplot(range(len(history)), r_at10)\n",
        "p.set_xlabel(\"EPOCH\", fontsize = 20)\n",
        "p.set_ylabel(\"Recall@10\", fontsize = 20)"
      ],
      "metadata": {
        "colab": {
          "base_uri": "https://localhost:8080/",
          "height": 360
        },
        "id": "5kG7SRgIhCVT",
        "outputId": "33baee5b-bc37-4021-dc96-863e1b913eca"
      },
      "execution_count": null,
      "outputs": [
        {
          "output_type": "stream",
          "name": "stderr",
          "text": [
            "/usr/local/lib/python3.7/dist-packages/seaborn/_decorators.py:43: FutureWarning: Pass the following variables as keyword args: x, y. From version 0.12, the only valid positional argument will be `data`, and passing other arguments without an explicit keyword will result in an error or misinterpretation.\n",
            "  FutureWarning\n"
          ]
        },
        {
          "output_type": "execute_result",
          "data": {
            "text/plain": [
              "Text(0, 0.5, 'Recall@10')"
            ]
          },
          "metadata": {},
          "execution_count": 83
        },
        {
          "output_type": "display_data",
          "data": {
            "text/plain": [
              "<Figure size 432x288 with 1 Axes>"
            ],
            "image/png": "[encoded data removed]"
          },
          "metadata": {
            "needs_background": "light"
          }
        }
      ]
    },
    {
      "cell_type": "code",
      "source": [
        "import seaborn as sns\n",
        "p = sns.lineplot(list(range(epochs)), r_at15)\n",
        "p.set_xlabel(\"EPOCH\", fontsize = 20)\n",
        "p.set_ylabel(\"Recall@15\", fontsize = 20)"
      ],
      "metadata": {
        "id": "TRgiCru1hHkO"
      },
      "execution_count": null,
      "outputs": []
    },
    {
      "cell_type": "code",
      "source": [
        "import seaborn as sns\n",
        "p = sns.lineplot(list(range(epochs)), r_at20)\n",
        "p.set_xlabel(\"EPOCH\", fontsize = 20)\n",
        "p.set_ylabel(\"Recall@20\", fontsize = 20)"
      ],
      "metadata": {
        "id": "h9IYu8snh2NZ"
      },
      "execution_count": null,
      "outputs": []
    },
    {
      "cell_type": "code",
      "source": [
        "import seaborn as sns\n",
        "p = sns.lineplot(list(range(epochs)), r_at50)\n",
        "p.set_xlabel(\"EPOCH\", fontsize = 20)\n",
        "p.set_ylabel(\"Recall@50\", fontsize = 20)"
      ],
      "metadata": {
        "id": "-fv5I7FmhS1n"
      },
      "execution_count": null,
      "outputs": []
    },
    {
      "cell_type": "code",
      "source": [
        "import seaborn as sns\n",
        "p = sns.lineplot(list(range(epochs)), r_at100)\n",
        "p.set_xlabel(\"EPOCH\", fontsize = 20)\n",
        "p.set_ylabel(\"Recall@100\", fontsize = 20)"
      ],
      "metadata": {
        "id": "a-sezj2uhVZU"
      },
      "execution_count": null,
      "outputs": []
    },
    {
      "cell_type": "code",
      "source": [
        "model.load_weights('./model_weights_distance')"
      ],
      "metadata": {
        "id": "QbVXt9y-KT00"
      },
      "execution_count": null,
      "outputs": []
    },
    {
      "cell_type": "code",
      "source": [
        "import warnings\n",
        "warnings.simplefilter('always', category=UserWarning)"
      ],
      "metadata": {
        "id": "8d4NtJ_h7fMi"
      },
      "execution_count": null,
      "outputs": []
    },
    {
      "cell_type": "code",
      "source": [
        "from pprint import pprint\n",
        "all_idxs = set([x[0] for x in X_test])\n",
        "num_trial = 3\n",
        "sizes = [5, 10, 15, 20]\n",
        "size_to_score = {s: {\"auc\": [],\n",
        "                        \"mrr\": [],\n",
        "                        \"r@10\": [],\n",
        "                        \"r@15\": [],\n",
        "                        \"r@20\": [],\n",
        "                        \"r@50\": [],\n",
        "                        \"r@100\": []\n",
        "                        } for s in sizes}\n",
        "for size in sizes:\n",
        "    print(\"Size: \", size)\n",
        "    random.seed(0)\n",
        "    for _ in range(num_trial):\n",
        "        idxs_test = random.sample(all_idxs, size)\n",
        "        _auc, recall, _mrr =  get_auc_score(idxs_test, top=50, total_movies=2000)\n",
        "        size_to_score[size][\"auc\"].append(_auc)\n",
        "        size_to_score[size][\"mrr\"].append(_mrr)\n",
        "        size_to_score[size][\"r@10\"].append(recall[0])\n",
        "        size_to_score[size][\"r@15\"].append(recall[1])\n",
        "        size_to_score[size][\"r@20\"].append(recall[2])\n",
        "        size_to_score[size][\"r@50\"].append(recall[3])\n",
        "        size_to_score[size][\"r@100\"].append(recall[4])\n",
        "    for key in size_to_score[size]:\n",
        "        print(key, \n",
        "              np.min(size_to_score[size][key]), \n",
        "              np.median(size_to_score[size][key]),\n",
        "              np.max(size_to_score[size][key]),\n",
        "              np.mean(size_to_score[size][key]),\n",
        "              np.std(size_to_score[size][key]))\n",
        "    "
      ],
      "metadata": {
        "id": "ia_CJjXgpE4p"
      },
      "execution_count": null,
      "outputs": []
    },
    {
      "cell_type": "code",
      "source": [
        "idxs_test = random.sample(all_idxs, 5)\n",
        "get_auc_score(idxs_test, top=50, total_movies=2000)"
      ],
      "metadata": {
        "colab": {
          "base_uri": "https://localhost:8080/"
        },
        "id": "UbbhdoD61MFT",
        "outputId": "47158d1c-fcd9-495a-a948-e06f9cc7f877"
      },
      "execution_count": null,
      "outputs": [
        {
          "output_type": "stream",
          "name": "stdout",
          "text": [
            "########################################################################################################################################################################################################\n",
            "['got', 'ideas', 'love', 'series', 'know', 'seen', 'first', 'two', 'good', 'ok', 'tried', 'hard', 'many', 'stars', 'liked', 'action', 'though', 'heard', 'kind', 'bit', 'get', 'pg', 'also', 'liked', 'pretty', 'funny', 'exciting']\n",
            "########################################################################################################################################################################################################\n",
            "0.16\n",
            "1\thttp://dbpedia.org/resource/Hot_Fuzz\thttp://dbpedia.org/resource/The_Duchess_(film)\n",
            "2\thttp://dbpedia.org/resource/Big_Talk_Productions\thttp://dbpedia.org/resource/Bourne_(franchise)\n",
            "3\thttp://dbpedia.org/resource/Nanny_McPhee_and_the_Big_Bang\thttp://dbpedia.org/resource/Jersey_Boys_(film)\n",
            "4\thttp://dbpedia.org/resource/Dead_Man_Walking_(film)\thttp://dbpedia.org/resource/Green_Zone_(film)\n",
            "5\thttp://dbpedia.org/resource/Bridget_Jones_(film_series)\thttp://dbpedia.org/resource/War_Horse_(film)\n",
            "6\thttp://dbpedia.org/resource/About_Time_(2013_film)\thttp://dbpedia.org/resource/Chicken_Run\n",
            "7\thttp://dbpedia.org/resource/Romeo_Is_Bleeding\thttp://dbpedia.org/resource/My_Cousin_Rachel_(2017_film)\n",
            "8\thttp://dbpedia.org/resource/Definitely,_Maybe\thttp://dbpedia.org/resource/Rush_(2013_film)\n",
            "9\thttp://dbpedia.org/resource/Johnny_English\thttp://dbpedia.org/resource/Once_Upon_a_Time_in_Mexico\n",
            "10\thttp://dbpedia.org/resource/Baby_Driver\thttp://dbpedia.org/resource/The_Life_of_David_Gale\n",
            "11\thttp://dbpedia.org/resource/Robin_Hood_(1991_British_film)\thttp://dbpedia.org/resource/The_Heart_of_Me\n",
            "12\thttp://dbpedia.org/resource/The_World's_End_(film)\thttp://dbpedia.org/resource/Shaun_the_Sheep_Movie\n",
            "13\thttp://dbpedia.org/resource/Les_Misérables_(2012_film)\thttp://dbpedia.org/resource/Ladybird,_Ladybird_(film)\n",
            "14\thttp://dbpedia.org/resource/Bridget_Jones's_Baby\thttp://dbpedia.org/resource/The_Borrowers_(1997_film)\n",
            "15\thttp://dbpedia.org/resource/The_Snowman_(2017_film)\thttp://dbpedia.org/resource/Night_of_the_Living_Dead_(film_series)\n",
            "16\thttp://dbpedia.org/resource/Wimbledon_(film)\thttp://dbpedia.org/resource/Hanna_(film)\n",
            "17\thttp://dbpedia.org/resource/Hail,_Caesar!\thttp://dbpedia.org/resource/Gravity_(2013_film)\n",
            "18\thttp://dbpedia.org/resource/Bridget_Jones:_The_Edge_of_Reason\thttp://dbpedia.org/resource/Sleepless_in_Seattle\n",
            "19\thttp://dbpedia.org/resource/Johnny_English_Reborn\thttp://dbpedia.org/resource/Johnny_English\n",
            "20\thttp://dbpedia.org/resource/Captain_Corelli's_Mandolin_(film)\thttp://dbpedia.org/resource/Becoming_Jane\n",
            "21\thttp://dbpedia.org/resource/A_Serious_Man\thttp://dbpedia.org/resource/The_Jewel_of_the_Nile\n",
            "22\thttp://dbpedia.org/resource/Mr._Bean's_Holiday\thttp://dbpedia.org/resource/Nanny_McPhee_and_the_Big_Bang\n",
            "23\thttp://dbpedia.org/resource/Nanny_McPhee\thttp://dbpedia.org/resource/Terminator_3:_Rise_of_the_Machines\n",
            "24\thttp://dbpedia.org/resource/French_Kiss_(1995_film)\thttp://dbpedia.org/resource/Unbreakable_(film)\n",
            "25\thttp://dbpedia.org/resource/The_Man_Who_Wasn't_There_(2001_film)\thttp://dbpedia.org/resource/Harry_Potter_and_the_Philosopher's_Stone_(film)\n",
            "26\thttp://dbpedia.org/resource/The_Soloist\thttp://dbpedia.org/resource/The_Adventures_of_Huck_Finn_(1993_film)\n",
            "27\thttp://dbpedia.org/resource/High_Fidelity_(film)\thttp://dbpedia.org/resource/The_Man_Who_Knew_Too_Little\n",
            "28\thttp://dbpedia.org/resource/Anna_Karenina_(2012_film)\thttp://dbpedia.org/resource/Notting_Hill_(film)\n",
            "29\thttp://dbpedia.org/resource/Ali_G_Indahouse\thttp://dbpedia.org/resource/Kingsman:_The_Secret_Service\n",
            "30\thttp://dbpedia.org/resource/United_93_(film)\thttp://dbpedia.org/resource/Kingdom_of_Heaven_(film)\n",
            "31\thttp://dbpedia.org/resource/Everest_(2015_film)\thttp://dbpedia.org/resource/Syriana\n",
            "32\thttp://dbpedia.org/resource/Notting_Hill_(film)\thttp://dbpedia.org/resource/Allied_(film)\n",
            "33\thttp://dbpedia.org/resource/Fargo_(1996_film)\thttp://dbpedia.org/resource/Wimbledon_(film)\n",
            "34\thttp://dbpedia.org/resource/Tinker_Tailor_Soldier_Spy_(film)\thttp://dbpedia.org/resource/The_Woman_in_Black_(2012_film)\n",
            "35\thttp://dbpedia.org/resource/Atonement_(2007_film)\thttp://dbpedia.org/resource/The_Thing_(2011_film)\n",
            "36\thttp://dbpedia.org/resource/Barton_Fink\thttp://dbpedia.org/resource/Lonesome_Dove_(miniseries)\n",
            "37\thttp://dbpedia.org/resource/The_Theory_of_Everything_(2014_film)\thttp://dbpedia.org/resource/Kingsman:_The_Golden_Circle\n",
            "38\thttp://dbpedia.org/resource/Thirteen_(2003_film)\thttp://dbpedia.org/resource/Solo:_A_Star_Wars_Story\n",
            "39\thttp://dbpedia.org/resource/Four_Weddings_and_a_Funeral\thttp://dbpedia.org/resource/Schindler's_List\n",
            "40\thttp://dbpedia.org/resource/Green_Zone_(film)\thttp://dbpedia.org/resource/Minority_Report_(film)\n",
            "41\thttp://dbpedia.org/resource/The_Big_Lebowski\thttp://dbpedia.org/resource/Saving_Private_Ryan\n",
            "42\thttp://dbpedia.org/resource/Paul_(film)\thttp://dbpedia.org/resource/Jane_Eyre_(2011_film)\n",
            "43\thttp://dbpedia.org/resource/The_Danish_Girl_(film)\thttp://dbpedia.org/resource/The_Madness_of_King_George\n",
            "44\thttp://dbpedia.org/resource/Senna_(film)\thttp://dbpedia.org/resource/So_I_Married_an_Axe_Murderer\n",
            "45\thttp://dbpedia.org/resource/Wild_Child_(film)\thttp://dbpedia.org/resource/Sense_and_Sensibility_(film)\n",
            "46\thttp://dbpedia.org/resource/Frost/Nixon_(film)\thttp://dbpedia.org/resource/Seven_Pounds\n",
            "47\thttp://dbpedia.org/resource/Legend_(2015_film)\thttp://dbpedia.org/resource/Home_Alone\n",
            "48\thttp://dbpedia.org/resource/Drop_Dead_Fred\thttp://dbpedia.org/resource/Annihilation_(film)\n",
            "49\thttp://dbpedia.org/resource/The_Borrowers_(1997_film)\thttp://dbpedia.org/resource/Last_Holiday_(2006_film)\n",
            "50\thttp://dbpedia.org/resource/Flushed_Away\thttp://dbpedia.org/resource/K-19:_The_Widowmaker\n",
            "########################################################################################################################################################################################################\n",
            "['good', 'suggestion', 'like', 'idea', 'yep', 'think', 'movie', 'great', 'plot', 'really', 'liked', 'bruce', 'cool', 'love', 'great', 'dc', 'comics', 'new', 'movie', 'want', 'see', 'soon']\n",
            "########################################################################################################################################################################################################\n",
            "0.05\n",
            "########################################################################################################################################################################################################\n",
            "['hello', 'hi', 'scary', 'movies', 'like', 'know', 'good', 'action', 'movies', 'know', 'series', 'good', 'action', 'also']\n",
            "########################################################################################################################################################################################################\n",
            "0.06\n",
            "########################################################################################################################################################################################################\n",
            "['great', 'like', 'scary', 'movies', 'like', 'loved', 'scary', 'movie', 'love', 'horror', 'films', 'like', 'really', 'care', 'though', 'checked', 'shall', 'try', 'really', 'type', 'horror', 'either', 'hated', 'love', 'whole', 'series']\n",
            "########################################################################################################################################################################################################\n",
            "0.03\n",
            "########################################################################################################################################################################################################\n",
            "['heard', 'seen', 'yeah', 'falling', 'love', 'someone', 'randomly', 'vacation', 'cute', 'sounds', 'like', 'movie', 'check']\n",
            "########################################################################################################################################################################################################\n",
            "0.04\n"
          ]
        },
        {
          "output_type": "execute_result",
          "data": {
            "text/plain": [
              "(0.0, [0.0, 0.0, 0.01, 0.027999999999999997, 0.068], 0.002249727032612599)"
            ]
          },
          "metadata": {},
          "execution_count": 130
        }
      ]
    },
    {
      "cell_type": "code",
      "source": [
        ""
      ],
      "metadata": {
        "id": "5XCLAfxL-t_a"
      },
      "execution_count": null,
      "outputs": []
    }
  ],
  "metadata": {
    "accelerator": "GPU",
    "colab": {
      "collapsed_sections": [],
      "machine_shape": "hm",
      "name": "Copy of Experiments_Training_CRS_results.ipynb",
      "provenance": [],
      "include_colab_link": true
    },
    "kernelspec": {
      "display_name": "Python 3",
      "name": "python3"
    },
    "language_info": {
      "name": "python"
    }
  },
  "nbformat": 4,
  "nbformat_minor": 0
}