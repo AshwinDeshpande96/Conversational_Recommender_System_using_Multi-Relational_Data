{
 "cells": [
  {
   "cell_type": "code",
   "execution_count": 6,
   "id": "957627c3",
   "metadata": {},
   "outputs": [],
   "source": [
    "import json\n",
    "import pickle\n",
    "import time\n",
    "import numpy as np\n",
    "import requests\n",
    "import time\n",
    "from tqdm import tqdm\n",
    "from pyrdf2vec import RDF2VecTransformer\n",
    "from pyrdf2vec.embedders import Word2Vec\n",
    "from pyrdf2vec.graphs import KG\n",
    "from pyrdf2vec.walkers import RandomWalker"
   ]
  },
  {
   "cell_type": "code",
   "execution_count": 2,
   "id": "faa40da9",
   "metadata": {},
   "outputs": [],
   "source": [
    "with open(\"../dataset3.pickle\", \"rb\") as fp:\n",
    "    data = pickle.load(fp)\n",
    "    fp.close()"
   ]
  },
  {
   "cell_type": "code",
   "execution_count": 3,
   "id": "f6c4842b",
   "metadata": {},
   "outputs": [],
   "source": [
    "entities =  [entity for entity in data[\"entity_to_id\"].keys() if isinstance(entity, str) and \"dbpedia\" in entity]"
   ]
  },
  {
   "cell_type": "code",
   "execution_count": 4,
   "id": "61ae7cba",
   "metadata": {},
   "outputs": [
    {
     "name": "stdout",
     "output_type": "stream",
     "text": [
      "Correct Entities: 34892/34893\n"
     ]
    }
   ],
   "source": [
    "print(f\"Correct Entities: {len(entities)}/{len(data['entity_to_id'])}\")"
   ]
  },
  {
   "cell_type": "code",
   "execution_count": null,
   "id": "437cf373",
   "metadata": {},
   "outputs": [],
   "source": [
    "result = []\n",
    "latest_i = 0\n",
    "window_size = 20"
   ]
  },
  {
   "cell_type": "code",
   "execution_count": 9,
   "id": "6805940f",
   "metadata": {},
   "outputs": [
    {
     "name": "stdout",
     "output_type": "stream",
     "text": [
      "120 140\n"
     ]
    },
    {
     "name": "stderr",
     "output_type": "stream",
     "text": [
      "100%|██████████████████████████████████████████████████████████████████████████████████████████████████████████████████████| 20/20 [03:11<00:00,  9.60s/it]\n"
     ]
    },
    {
     "name": "stdout",
     "output_type": "stream",
     "text": [
      "Extracted 200 walks for 20 entities (192.1122s)\n",
      "Fitted 200 walks (0.0303s)\n",
      "140 160\n"
     ]
    },
    {
     "ename": "ValueError",
     "evalue": "At least one provided entity does not exist in the Knowledge Graph.",
     "output_type": "error",
     "traceback": [
      "\u001b[1;31m---------------------------------------------------------------------------\u001b[0m",
      "\u001b[1;31mValueError\u001b[0m                                Traceback (most recent call last)",
      "\u001b[1;32m~\\AppData\\Local\\Temp\\ipykernel_9592\\1245588904.py\u001b[0m in \u001b[0;36m<module>\u001b[1;34m\u001b[0m\n\u001b[0;32m      8\u001b[0m     )\n\u001b[0;32m      9\u001b[0m     \u001b[0mprint\u001b[0m\u001b[1;33m(\u001b[0m\u001b[0mi\u001b[0m\u001b[1;33m,\u001b[0m \u001b[0mi\u001b[0m\u001b[1;33m+\u001b[0m\u001b[0mwindow_size\u001b[0m\u001b[1;33m)\u001b[0m\u001b[1;33m\u001b[0m\u001b[1;33m\u001b[0m\u001b[0m\n\u001b[1;32m---> 10\u001b[1;33m     \u001b[0mresult\u001b[0m \u001b[1;33m+=\u001b[0m \u001b[0mtransformer\u001b[0m\u001b[1;33m.\u001b[0m\u001b[0mfit_transform\u001b[0m\u001b[1;33m(\u001b[0m\u001b[0mkg\u001b[0m\u001b[1;33m,\u001b[0m \u001b[0mentities\u001b[0m\u001b[1;33m[\u001b[0m\u001b[0mi\u001b[0m\u001b[1;33m:\u001b[0m\u001b[0mi\u001b[0m\u001b[1;33m+\u001b[0m\u001b[0mwindow_size\u001b[0m\u001b[1;33m]\u001b[0m\u001b[1;33m)\u001b[0m\u001b[1;33m[\u001b[0m\u001b[1;36m0\u001b[0m\u001b[1;33m]\u001b[0m\u001b[1;33m\u001b[0m\u001b[1;33m\u001b[0m\u001b[0m\n\u001b[0m\u001b[0;32m     11\u001b[0m     \u001b[0mlatest_i\u001b[0m \u001b[1;33m=\u001b[0m \u001b[0mi\u001b[0m\u001b[1;33m+\u001b[0m\u001b[0mwindow_size\u001b[0m\u001b[1;33m\u001b[0m\u001b[1;33m\u001b[0m\u001b[0m\n",
      "\u001b[1;32m~\\Anaconda3\\envs\\pyrdf\\lib\\site-packages\\pyrdf2vec\\rdf2vec.py\u001b[0m in \u001b[0;36mfit_transform\u001b[1;34m(self, kg, entities, is_update)\u001b[0m\n\u001b[0;32m    141\u001b[0m         \"\"\"\n\u001b[0;32m    142\u001b[0m         \u001b[0mself\u001b[0m\u001b[1;33m.\u001b[0m\u001b[0m_is_extract_walks_literals\u001b[0m \u001b[1;33m=\u001b[0m \u001b[1;32mTrue\u001b[0m\u001b[1;33m\u001b[0m\u001b[1;33m\u001b[0m\u001b[0m\n\u001b[1;32m--> 143\u001b[1;33m         \u001b[0mself\u001b[0m\u001b[1;33m.\u001b[0m\u001b[0mfit\u001b[0m\u001b[1;33m(\u001b[0m\u001b[0mself\u001b[0m\u001b[1;33m.\u001b[0m\u001b[0mget_walks\u001b[0m\u001b[1;33m(\u001b[0m\u001b[0mkg\u001b[0m\u001b[1;33m,\u001b[0m \u001b[0mentities\u001b[0m\u001b[1;33m)\u001b[0m\u001b[1;33m,\u001b[0m \u001b[0mis_update\u001b[0m\u001b[1;33m)\u001b[0m\u001b[1;33m\u001b[0m\u001b[1;33m\u001b[0m\u001b[0m\n\u001b[0m\u001b[0;32m    144\u001b[0m         \u001b[1;32mreturn\u001b[0m \u001b[0mself\u001b[0m\u001b[1;33m.\u001b[0m\u001b[0mtransform\u001b[0m\u001b[1;33m(\u001b[0m\u001b[0mkg\u001b[0m\u001b[1;33m,\u001b[0m \u001b[0mentities\u001b[0m\u001b[1;33m)\u001b[0m\u001b[1;33m\u001b[0m\u001b[1;33m\u001b[0m\u001b[0m\n\u001b[0;32m    145\u001b[0m \u001b[1;33m\u001b[0m\u001b[0m\n",
      "\u001b[1;32m~\\Anaconda3\\envs\\pyrdf\\lib\\site-packages\\pyrdf2vec\\rdf2vec.py\u001b[0m in \u001b[0;36mget_walks\u001b[1;34m(self, kg, entities)\u001b[0m\n\u001b[0;32m    165\u001b[0m                 \u001b[0masyncio\u001b[0m\u001b[1;33m.\u001b[0m\u001b[0mrun\u001b[0m\u001b[1;33m(\u001b[0m\u001b[0mkg\u001b[0m\u001b[1;33m.\u001b[0m\u001b[0mconnector\u001b[0m\u001b[1;33m.\u001b[0m\u001b[0mclose\u001b[0m\u001b[1;33m(\u001b[0m\u001b[1;33m)\u001b[0m\u001b[1;33m)\u001b[0m\u001b[1;33m\u001b[0m\u001b[1;33m\u001b[0m\u001b[0m\n\u001b[0;32m    166\u001b[0m             raise ValueError(\n\u001b[1;32m--> 167\u001b[1;33m                 \u001b[1;34m\"At least one provided entity does not exist in the \"\u001b[0m\u001b[1;33m\u001b[0m\u001b[1;33m\u001b[0m\u001b[0m\n\u001b[0m\u001b[0;32m    168\u001b[0m                 \u001b[1;33m+\u001b[0m \u001b[1;34m\"Knowledge Graph.\"\u001b[0m\u001b[1;33m\u001b[0m\u001b[1;33m\u001b[0m\u001b[0m\n\u001b[0;32m    169\u001b[0m             )\n",
      "\u001b[1;31mValueError\u001b[0m: At least one provided entity does not exist in the Knowledge Graph."
     ]
    }
   ],
   "source": [
    "for i in range(latest_i,len(entities), window_size):\n",
    "    time.sleep(1)\n",
    "    kg = KG(\"https://dbpedia.org/sparql\", is_remote=True)\n",
    "    transformer = RDF2VecTransformer(\n",
    "        Word2Vec(epochs=10),\n",
    "        walkers=[RandomWalker(4, 10, with_reverse=False, n_jobs=2)],\n",
    "        verbose=1\n",
    "    )\n",
    "    print(i, i+window_size)\n",
    "    result += transformer.fit_transform(kg, entities[i:i+window_size])[0]\n",
    "    latest_i = i+window_size"
   ]
  },
  {
   "cell_type": "code",
   "execution_count": 8,
   "id": "cd75fe81",
   "metadata": {},
   "outputs": [
    {
     "data": {
      "text/plain": [
       "120"
      ]
     },
     "execution_count": 8,
     "metadata": {},
     "output_type": "execute_result"
    }
   ],
   "source": [
    "len(result)"
   ]
  },
  {
   "cell_type": "code",
   "execution_count": null,
   "id": "cb2a45ac",
   "metadata": {},
   "outputs": [],
   "source": []
  }
 ],
 "metadata": {
  "kernelspec": {
   "display_name": "Python [conda env:pyrdf]",
   "language": "python",
   "name": "conda-env-pyrdf-py"
  },
  "language_info": {
   "codemirror_mode": {
    "name": "ipython",
    "version": 3
   },
   "file_extension": ".py",
   "mimetype": "text/x-python",
   "name": "python",
   "nbconvert_exporter": "python",
   "pygments_lexer": "ipython3",
   "version": "3.7.13"
  }
 },
 "nbformat": 4,
 "nbformat_minor": 5
}
