{
 "cells": [
  {
   "cell_type": "code",
   "execution_count": 9,
   "id": "867b1baf",
   "metadata": {},
   "outputs": [],
   "source": [
    "import pickle"
   ]
  },
  {
   "cell_type": "code",
   "execution_count": 10,
   "id": "bfa1629f",
   "metadata": {},
   "outputs": [],
   "source": [
    "with open(\"../dataset_word_cleaned.pickle\", \"rb\") as fp:\n",
    "    dataset = pickle.load(fp)\n",
    "    fp.close()"
   ]
  },
  {
   "cell_type": "code",
   "execution_count": 11,
   "id": "fcc80159",
   "metadata": {},
   "outputs": [
    {
     "data": {
      "text/plain": [
       "dict_keys(['entity_kg_clean', 'entity_to_id', 'movie_ids', 'relation_counts', 'relation_to_id', 'word_kg_clean', 'word_relation_to_id', 'word_to_id', 'id_to_entity', 'id_to_relation', 'entity_to_edge', 'id_to_word', 'word_to_embedding'])"
      ]
     },
     "execution_count": 11,
     "metadata": {},
     "output_type": "execute_result"
    }
   ],
   "source": [
    "dataset.keys()"
   ]
  },
  {
   "cell_type": "code",
   "execution_count": 17,
   "id": "4f7cf970",
   "metadata": {},
   "outputs": [
    {
     "name": "stdout",
     "output_type": "stream",
     "text": [
      "5670\n"
     ]
    }
   ],
   "source": [
    "words_not_found = set()\n",
    "for word in dataset[\"word_to_id\"]:\n",
    "#     print(word)\n",
    "    if word.startswith(\"/c/en\"):\n",
    "        word = word.split(\"/\")[3]\n",
    "        \n",
    "    if word not in dataset[\"word_to_embedding\"]:\n",
    "        words_not_found.add(word)\n",
    "print(len(words_not_found))"
   ]
  },
  {
   "cell_type": "code",
   "execution_count": null,
   "id": "94f53b0c",
   "metadata": {},
   "outputs": [],
   "source": []
  }
 ],
 "metadata": {
  "kernelspec": {
   "display_name": "Python [conda env:chat]",
   "language": "python",
   "name": "conda-env-chat-py"
  },
  "language_info": {
   "codemirror_mode": {
    "name": "ipython",
    "version": 3
   },
   "file_extension": ".py",
   "mimetype": "text/x-python",
   "name": "python",
   "nbconvert_exporter": "python",
   "pygments_lexer": "ipython3",
   "version": "3.7.11"
  }
 },
 "nbformat": 4,
 "nbformat_minor": 5
}
